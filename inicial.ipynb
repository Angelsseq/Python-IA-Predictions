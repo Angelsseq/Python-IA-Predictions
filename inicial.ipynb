{
 "cells": [
  {
   "cell_type": "markdown",
   "metadata": {},
   "source": [
    "# Projeto Python IA: Inteligência Artificial e Previsões\n",
    "\n",
    "### Case: Score de Crédito dos Clientes\n",
    "\n",
    "Você foi contratado por um banco para conseguir definir o score de crédito dos clientes. Você precisa analisar todos os clientes do banco e, com base nessa análise, criar um modelo que consiga ler as informações do cliente e dizer automaticamente o score de crédito dele: Ruim, Ok, Bom\n",
    "\n",
    "Arquivos da aula: https://drive.google.com/drive/folders/1FbDqVq4XLvU85VBlVIMJ73p9oOu6u2-J?usp=drive_link"
   ]
  },
  {
   "cell_type": "code",
   "execution_count": null,
   "metadata": {},
   "outputs": [],
   "source": [
    "# Passo 0: Entender o Desafio e a empresa\n",
    "\n",
    "\n",
    "# pacotes de códigos = bibliotecas\n",
    "# pip install pandas\n",
    "# !pip install pandas\n",
    "# !pip install scikit-learn\n"
   ]
  },
  {
   "cell_type": "code",
   "execution_count": null,
   "metadata": {},
   "outputs": [],
   "source": [
    "# Passo 1: Importar a base de dados\n",
    "import pandas as pd\n",
    "# from pandas import read_csv\n",
    "\n",
    "tabela = pd.read_csv(\"clientes.csv\") #dar nome tabela para database\n",
    "\n",
    "display(tabela)"
   ]
  },
  {
   "cell_type": "code",
   "execution_count": null,
   "metadata": {},
   "outputs": [],
   "source": [
    "# Passo 2: Preparar a base de dados para a inteligência artificial\n",
    " \n",
    "display(tabela.info())\n",
    "\n",
    "# Dtype = tipo de dados\n",
    "\n",
    "# int -> numeros\n",
    "# float -> numero casa decimal\n",
    "# object -> textos\n",
    "\n",
    "# score de crédito\n",
    "\n",
    "# good = bom\n",
    "# standart = ok \n",
    "# poor = ruim"
   ]
  },
  {
   "cell_type": "code",
   "execution_count": null,
   "metadata": {},
   "outputs": [],
   "source": [
    "# passo 2.2\n",
    "# profissao\n",
    "\n",
    "# mecanico - 1\n",
    "# professor - 2\n",
    "# artista - 3\n",
    "# advogado - 4\n",
    "# medico - 5\n",
    "# bombeiro - 6\n",
    "\n",
    "# Label Encoder - transformar as profissões em números\n",
    "\n",
    "# import sklearn as sk\n",
    "from sklearn.preprocessing import LabelEncoder\n",
    "\n",
    "# profissao\n",
    "codificador = LabelEncoder() # codificador = sklearn.preprocessing.LabelEncoder()\n",
    "tabela[\"profissao\"] = codificador.fit_transform(tabela[\"profissao\"])\n",
    "\n",
    "# mix_credito\n",
    "codificador2 = LabelEncoder()\n",
    "tabela[\"mix_credito\"] = codificador2.fit_transform(tabela[\"mix_credito\"])\n",
    "\n",
    "# comportamento_pagamento\n",
    "codificador3 = LabelEncoder()\n",
    "tabela[\"comportamento_pagamento\"] = codificador3.fit_transform(tabela[\"comportamento_pagamento\"])\n",
    "\n",
    "display(tabela.info())"
   ]
  },
  {
   "cell_type": "code",
   "execution_count": 31,
   "metadata": {},
   "outputs": [],
   "source": [
    "\n",
    "# passo 2.3\n",
    "y = tabela[\"score_credito\"] #y é quem eu quero prever\n",
    "\n",
    "x = tabela.drop(columns=[\"score_credito\", \"id_cliente\"]) #x é quem eu vou usar para prever, menos as colunas dropadas\n",
    "\n",
    "\n",
    "# dividar dados da tabela em dados de treino80% e dados de testes20%\n",
    "\n",
    "from sklearn.model_selection import train_test_split #divide de forma aleatoria os dados em dados de treino e testes, 80/20\n",
    "# = train_test_split(x, y, test_size=0.2 #20%,)\n",
    "x_treino, x_teste, y_treino, y_teste = train_test_split(x, y)"
   ]
  },
  {
   "cell_type": "code",
   "execution_count": null,
   "metadata": {},
   "outputs": [],
   "source": [
    "# Passo 3: Criar um modelo d IA -> Nota/Score de crédito: Bom, OK, Ruim\n",
    "# Arvore de Decisão -> RandomForest\n",
    "# Vizinhos Próximos (Nearest Neighbors) -> KNM\n",
    "# existem centenas de modelos \n",
    "\n",
    "# importa a inteligencia artificial (IA)\n",
    "from sklearn.ensemble import RandomForestClassifier\n",
    "from sklearn.neighbors import KNeighborsClassifier\n",
    "\n",
    "# cria a IA\n",
    "modelo_arvoredecisao = RandomForestClassifier() #parece uma ávore binária divide pelas resposta s/n das perguntas\n",
    "modelo_knn = KNeighborsClassifier() #define o resultado com base no vizinho mais próximos se, vizinho bom, ele bom tbm\n",
    "\n",
    "# após desligar o computador modelo precisará ser treinado novamente\n",
    "# existem ferramentas em python que permite vc salvar a variavel modelo_arvoredecisao em um arquivo\n",
    "# joblib | picket\n",
    "# streamlit (ferramenta que consegue pegar variavel e disponibilizar em um mini aplicativo)\n",
    "\n",
    "\n",
    "# treina a ia\n",
    "modelo_arvoredecisao.fit(x_treino, y_treino)\n",
    "modelo_knn.fit(x_treino, y_treino)"
   ]
  },
  {
   "cell_type": "code",
   "execution_count": null,
   "metadata": {},
   "outputs": [],
   "source": [
    "# Passo 4: Avaliar qual o melhor modelo de IA \n",
    "# verificar se o resultado do teste da ia está igual ao resultado gabarito\n",
    "# resultados = good | standart | poor\n",
    "\n",
    "#faz previsões com base em novos dados\n",
    "previsao_arvoredecisao = modelo_arvoredecisao.predict(x_teste)\n",
    "previsao_knn = modelo_knn.predict(x_teste)\n",
    "\n",
    "# acurácia (precisão de percentual de acertos)\n",
    "from sklearn.metrics import accuracy_score #mede a acurácia de previsões corretas em relação ao total de relações\n",
    "\n",
    "\n",
    "display(accuracy_score(y_teste, previsao_arvoredecisao)) #83% de acurácia (MELHOR MODELO)\n",
    "display(accuracy_score(y_teste, previsao_knn)) #74% de acurácia\n",
    "\n",
    "# a porcentagem pode variar pois tem vários pontos que são aleatórios então depende dos dados\n",
    "\n",
    "# a porcentagem boa e ideal depende do objetivo de cada projeto\n",
    "# se o resultado n for satisfatório eu posso:\n",
    "# aumentar dados de treino ou porcentagem no test_size\n",
    "# existe um método que consiste em fazer vários treinos diferentes com pedaços de dados diferentes e depois consolidar tudo\n",
    "# testar parametros diferentes de cada modelo\n",
    "# testar mais modelos de ia"
   ]
  },
  {
   "cell_type": "code",
   "execution_count": null,
   "metadata": {},
   "outputs": [],
   "source": [
    "# Passo 5: Fazer Novas previsões em uma nova tabela\n",
    "# usando modelo vencedor\n",
    "\n",
    "\n",
    "#importar nova tabela\n",
    "tabela_novos_clientes = pd.read_csv(\"novos_clientes.csv\")\n",
    "display(tabela_novos_clientes)\n",
    "\n",
    "\n",
    "#formatar a nova database de forma correta\n",
    "tabela_novos_clientes[\"profissao\"] = codificador.fit_transform(tabela_novos_clientes[\"profissao\"])\n",
    "\n",
    "tabela_novos_clientes[\"mix_credito\"] = codificador2.fit_transform(tabela_novos_clientes[\"mix_credito\"])\n",
    "\n",
    "tabela_novos_clientes[\"comportamento_pagamento\"] = codificador3.fit_transform(tabela_novos_clientes[\"comportamento_pagamento\"])\n",
    "\n",
    "\n",
    "#executar a previsão do score de crédito mesmo sem existir nessa nova database\n",
    "previsao = modelo_arvoredecisao.predict(tabela_novos_clientes)\n",
    "display(previsao)\n",
    "\n",
    "\n",
    "#tabela_novos_clientes[\"score_credito\"] = previsao #Causo desejasse colocar nova coluna na tabela nova\n",
    "tabela = tabela_novos_clientes[\"score_credito\"]"
   ]
  }
 ],
 "metadata": {
  "kernelspec": {
   "display_name": "Python 3",
   "language": "python",
   "name": "python3"
  },
  "language_info": {
   "codemirror_mode": {
    "name": "ipython",
    "version": 3
   },
   "file_extension": ".py",
   "mimetype": "text/x-python",
   "name": "python",
   "nbconvert_exporter": "python",
   "pygments_lexer": "ipython3",
   "version": "3.12.5"
  },
  "orig_nbformat": 4
 },
 "nbformat": 4,
 "nbformat_minor": 2
}
